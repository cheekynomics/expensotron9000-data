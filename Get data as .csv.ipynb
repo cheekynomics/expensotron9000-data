{
 "cells": [
  {
   "cell_type": "code",
   "execution_count": 2,
   "metadata": {
    "collapsed": true
   },
   "outputs": [],
   "source": [
    "import pandas as pd\n",
    "from urllib import request"
   ]
  },
  {
   "cell_type": "code",
   "execution_count": 98,
   "metadata": {
    "collapsed": false
   },
   "outputs": [],
   "source": [
    "YEARS = ['2010', '2011', '2012', '2013', '2014', '2015']\n",
    "expenses = {}\n",
    "for year in YEARS:\n",
    "    expenses.update({str(year) : pd.read_csv(\"../Rytch saves the day/expenses_GOR_\" + year+\".csv\",  low_memory=False)})"
   ]
  },
  {
   "cell_type": "code",
   "execution_count": 99,
   "metadata": {
    "collapsed": false
   },
   "outputs": [],
   "source": [
    "allData = pd.DataFrame(columns=[\"MP's Name\", \n",
    "                              \"MP's Constituency\",\n",
    "                              'Category',\n",
    "                              'Amount Paid',\n",
    "                              'Year',\n",
    "                             'Region'])\n",
    "holding = {}"
   ]
  },
  {
   "cell_type": "code",
   "execution_count": 100,
   "metadata": {
    "collapsed": false,
    "scrolled": true
   },
   "outputs": [
    {
     "name": "stdout",
     "output_type": "stream",
     "text": [
      "2011\n",
      "2012\n",
      "2013\n",
      "2015\n",
      "2010\n",
      "2014\n"
     ]
    }
   ],
   "source": [
    "for year, data in expenses.items():\n",
    "    data['Year'] = year\n",
    "    data.rename(columns={col : col.strip().replace(\"\\\\\",\"\") for col in data.columns}, inplace=True)\n",
    "    data.drop([col for col in data.columns if col not in [\"MP's Name\", \n",
    "                                                          \"MP's Constituency\",\n",
    "                                                          'Category',\n",
    "                                                          'Amount Paid',\n",
    "                                                          'Year',\n",
    "                                                         'Region']], axis = 1, inplace=True)\n",
    "    data.dropna(axis = 0, subset=['Region'], inplace=True)\n",
    "    data.reset_index(inplace=True, drop=True)\n",
    "    allData = pd.concat([allData, data], axis = 0)    "
   ]
  },
  {
   "cell_type": "code",
   "execution_count": 102,
   "metadata": {
    "collapsed": false
   },
   "outputs": [
    {
     "data": {
      "text/plain": [
       "Index(['Amount Paid', 'Category', 'MP's Constituency', 'MP's Name', 'Region',\n",
       "       'Year'],\n",
       "      dtype='object')"
      ]
     },
     "execution_count": 102,
     "metadata": {},
     "output_type": "execute_result"
    }
   ],
   "source": [
    "allData.columns"
   ]
  },
  {
   "cell_type": "code",
   "execution_count": 120,
   "metadata": {
    "collapsed": false
   },
   "outputs": [],
   "source": [
    "grouped = pd.DataFrame(allData.groupby(['Year',  \n",
    "                                        'Region',\n",
    "                                        \"MP's Constituency\",\n",
    "                                        \"MP's Name\", \n",
    "                                        'Category', ], as_index=False)['Amount Paid'].sum().round(0))\n",
    "grouped[\"Constituency\"] = [con[:-3] if con[-3:] != 'own' else con for con in grouped[\"MP's Constituency\"]]\n",
    "grouped.rename(columns={\"MP's Name\" : \"Name\", \"Amount Paid\" : \"Paid\"}, inplace=True)\n",
    "grouped.drop([\"MP's Constituency\"], axis = 1, inplace = True)"
   ]
  },
  {
   "cell_type": "code",
   "execution_count": 122,
   "metadata": {
    "collapsed": false
   },
   "outputs": [],
   "source": [
    "grouped.to_csv(\"ExpensesByRegion.csv\")"
   ]
  },
  {
   "cell_type": "code",
   "execution_count": 115,
   "metadata": {
    "collapsed": false
   },
   "outputs": [
    {
     "data": {
      "text/plain": [
       "array([' CC', ' BC', 'own'], dtype=object)"
      ]
     },
     "execution_count": 115,
     "metadata": {},
     "output_type": "execute_result"
    }
   ],
   "source": [
    "consts = grouped[\"Constituency\"].unique()\n",
    "suffixes = pd.Series([i[-3:] for i in consts])\n",
    "suffixes.unique()"
   ]
  },
  {
   "cell_type": "code",
   "execution_count": 116,
   "metadata": {
    "collapsed": false
   },
   "outputs": [
    {
     "data": {
      "text/plain": [
       "['South Down']"
      ]
     },
     "execution_count": 116,
     "metadata": {},
     "output_type": "execute_result"
    }
   ],
   "source": [
    "invest = [i for i in consts if i[-3:] == 'own']\n",
    "invest"
   ]
  },
  {
   "cell_type": "code",
   "execution_count": null,
   "metadata": {
    "collapsed": true
   },
   "outputs": [],
   "source": []
  },
  {
   "cell_type": "code",
   "execution_count": null,
   "metadata": {
    "collapsed": true
   },
   "outputs": [],
   "source": []
  },
  {
   "cell_type": "code",
   "execution_count": null,
   "metadata": {
    "collapsed": true
   },
   "outputs": [],
   "source": []
  },
  {
   "cell_type": "code",
   "execution_count": null,
   "metadata": {
    "collapsed": true
   },
   "outputs": [],
   "source": []
  }
 ],
 "metadata": {
  "kernelspec": {
   "display_name": "Python 3",
   "language": "python",
   "name": "python3"
  },
  "language_info": {
   "codemirror_mode": {
    "name": "ipython",
    "version": 3
   },
   "file_extension": ".py",
   "mimetype": "text/x-python",
   "name": "python",
   "nbconvert_exporter": "python",
   "pygments_lexer": "ipython3",
   "version": "3.4.5"
  }
 },
 "nbformat": 4,
 "nbformat_minor": 0
}
